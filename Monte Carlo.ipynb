{
 "metadata": {
  "name": "",
  "signature": "sha256:3383d3c9ab10f5e9246aedf2fe8e0081fb22f0a4945eda19bf83e643133b243e"
 },
 "nbformat": 3,
 "nbformat_minor": 0,
 "worksheets": [
  {
   "cells": [
    {
     "cell_type": "heading",
     "level": 1,
     "metadata": {},
     "source": [
      "Lessons Learned"
     ]
    },
    {
     "cell_type": "markdown",
     "metadata": {},
     "source": [
      "1. If a variable does not have the object that I expect, a possible reason is that I did not import the object properly. "
     ]
    },
    {
     "cell_type": "heading",
     "level": 1,
     "metadata": {},
     "source": [
      "Example"
     ]
    },
    {
     "cell_type": "markdown",
     "metadata": {},
     "source": [
      "[source](https://www.chrisstucchio.com/blog/2013/basic_income_vs_basic_job.html)"
     ]
    },
    {
     "cell_type": "code",
     "collapsed": false,
     "input": [
      "import numpy as np\n",
      "%pylab inline"
     ],
     "language": "python",
     "metadata": {},
     "outputs": [
      {
       "output_type": "stream",
       "stream": "stdout",
       "text": [
        "Populating the interactive namespace from numpy and matplotlib\n"
       ]
      },
      {
       "output_type": "stream",
       "stream": "stderr",
       "text": [
        "WARNING: pylab import has clobbered these variables: ['norm']\n",
        "`%matplotlib` prevents importing * from pylab and numpy\n"
       ]
      }
     ],
     "prompt_number": 3
    },
    {
     "cell_type": "code",
     "collapsed": false,
     "input": [
      "from scipy.stats import norm, uniform, binom\n",
      "x = np.arange(-4,4,.01)\n",
      "plot(x, norm().pdf(x));"
     ],
     "language": "python",
     "metadata": {},
     "outputs": [
      {
       "metadata": {},
       "output_type": "display_data",
       "png": "[encoded data removed]",
       "text": [
        "<matplotlib.figure.Figure at 0x108e0af10>"
       ]
      }
     ],
     "prompt_number": 56
    },
    {
     "cell_type": "code",
     "collapsed": false,
     "input": [
      "mean, var, skew, kurt = norm.stats(moments='mvsk')"
     ],
     "language": "python",
     "metadata": {},
     "outputs": [],
     "prompt_number": 11
    },
    {
     "cell_type": "code",
     "collapsed": false,
     "input": [
      "mean, var, skew, kurt"
     ],
     "language": "python",
     "metadata": {},
     "outputs": [
      {
       "metadata": {},
       "output_type": "pyout",
       "prompt_number": 14,
       "text": [
        "(array(0.0), array(1.0), array(0.0), array(0.0))"
       ]
      }
     ],
     "prompt_number": 14
    },
    {
     "cell_type": "code",
     "collapsed": false,
     "input": [
      "mean, var, skew, kurt = norm(150,500).stats(moments='mvsk')"
     ],
     "language": "python",
     "metadata": {},
     "outputs": [],
     "prompt_number": 21
    },
    {
     "cell_type": "heading",
     "level": 2,
     "metadata": {},
     "source": [
      "Assumptions"
     ]
    },
    {
     "cell_type": "code",
     "collapsed": false,
     "input": [
      "num_adults = 227e6\n",
      "basic_income = 7.25 * 40 * 50 #$/hr * hours/wk * weeks/year\n",
      "labor_force = 154e6\n",
      "disabled_adults = 21e6\n",
      "wealth_transfers = 3369e9 # Current amount of wealth transfers in the U.S.\n",
      "marginal_worker_hourly_productivity = norm(10,1)\n",
      "administrative_cost_per_person = norm(250,75)\n",
      "non_worker_multiplier = uniform(-0.05, 0.15)# Percent of people likely to stop working"
     ],
     "language": "python",
     "metadata": {},
     "outputs": [],
     "prompt_number": 23
    },
    {
     "cell_type": "heading",
     "level": 2,
     "metadata": {},
     "source": [
      "Basic Income"
     ]
    },
    {
     "cell_type": "code",
     "collapsed": false,
     "input": [
      "num_adults * administrative_cost_per_person.rvs()\n",
      "    "
     ],
     "language": "python",
     "metadata": {},
     "outputs": [
      {
       "metadata": {},
       "output_type": "pyout",
       "prompt_number": 77,
       "text": [
        "62142750085.74293"
       ]
      }
     ],
     "prompt_number": 77
    },
    {
     "cell_type": "code",
     "collapsed": false,
     "input": [
      "direct_cost = num_adults * basic_income"
     ],
     "language": "python",
     "metadata": {},
     "outputs": [],
     "prompt_number": 78
    },
    {
     "cell_type": "code",
     "collapsed": false,
     "input": [
      "def basic_income_cost_benefit():\n",
      "    direct_costs = num_adults * basic_income\n",
      "    administrative_costs = num_adults * administrative_cost_per_person.rvs()\n",
      "    \n",
      "    labor_effect_costs_benefit = (-1 * (num_adults-labor_force-disabled_adults) *\n",
      "                                  non_worker_multiplier.rvs() * (40 * 52 * \n",
      "                                  marginal_worker_hourly_productivity.rvs())\n",
      "                              )\n",
      "    return direct_costs + administrative_costs + labor_effect_costs_benefit\n",
      "    \n"
     ],
     "language": "python",
     "metadata": {},
     "outputs": [],
     "prompt_number": 81
    },
    {
     "cell_type": "heading",
     "level": 2,
     "metadata": {},
     "source": [
      "Basic Jobs"
     ]
    },
    {
     "cell_type": "markdown",
     "metadata": {},
     "source": [
      "The non-worker refers to workers outside of the basic job. The number of workers could decrease as more people take a basic job or could increase as there is a greater incentive to start working."
     ]
    },
    {
     "cell_type": "code",
     "collapsed": false,
     "input": [
      "def basic_job_cost_benefit():\n",
      "    administrative_costs_per_disabled_person = norm(500, 150).rvs()\n",
      "    administrative_cost_per_worker = norm(5000,1500).rvs()\n",
      "    non_worker_multiplier = uniform(-.2, .25).rvs()\n",
      "    basic_job_hourly_productivity = uniform(0.0,5.25).rvs()\n",
      "    \n",
      "    disabled_cost = disabled_adults * (basic_income +\n",
      "                                       administrative_costs_per_disabled_person)\n",
      "    \n",
      "    num_basic_workers = ((num_adults - disabled_adults - labor_force) *\n",
      "                         (1 + non_worker_multiplier)\n",
      "                         )\n",
      "    basic_worker_cost_benefit = num_basic_workers * (\n",
      "        basic_income +\n",
      "        administrative_cost_per_worker -\n",
      "        40*50*basic_job_hourly_productivity\n",
      "        )\n",
      "    \n",
      "    return disabled_cost + basic_worker_cost_benefit\n",
      "    "
     ],
     "language": "python",
     "metadata": {},
     "outputs": [],
     "prompt_number": 64
    },
    {
     "cell_type": "heading",
     "level": 2,
     "metadata": {},
     "source": [
      "Monte Carlo Simulations"
     ]
    },
    {
     "cell_type": "markdown",
     "metadata": {},
     "source": [
      "We use Monte Carlo simulations here because both of the functions that we define here are not deterministic. "
     ]
    },
    {
     "cell_type": "code",
     "collapsed": true,
     "input": [
      "N = 1024 * 12\n",
      "bi = np.zeros(shape=(N,), dtype=float)\n",
      "bj = np.zeros(shape=(N,), dtype=float)\n",
      "\n",
      "for k in range(N):\n",
      "    bi[k] = basic_income_cost_benefit()\n",
      "    bj[k] = basic_job_cost_benefit()"
     ],
     "language": "python",
     "metadata": {},
     "outputs": [],
     "prompt_number": 83
    },
    {
     "cell_type": "code",
     "collapsed": false,
     "input": [
      "bi"
     ],
     "language": "python",
     "metadata": {},
     "outputs": [
      {
       "metadata": {},
       "output_type": "pyout",
       "prompt_number": 84,
       "text": [
        "array([  3.24461478e+12,   3.22514337e+12,   3.38127128e+12, ...,\n",
        "         3.36528601e+12,   3.40589456e+12,   3.29324142e+12])"
       ]
      }
     ],
     "prompt_number": 84
    },
    {
     "cell_type": "code",
     "collapsed": false,
     "input": [
      "subplot(211)\n",
      "width = 4e12\n",
      "height = 50*N/1024\n",
      "\n",
      "title(\"Basic Income\")\n",
      "hist(bi, bins=50)\n",
      "axis([0,width,0,height])\n",
      "\n",
      "subplot(212)\n",
      "title(\"Basic Job\")\n",
      "hist(bj, bins=50)\n",
      "\n",
      "axis([0,width,0,height])\n",
      "\n",
      "show()"
     ],
     "language": "python",
     "metadata": {},
     "outputs": [
      {
       "metadata": {},
       "output_type": "display_data",
       "png": "[encoded data removed]",
       "text": [
        "<matplotlib.figure.Figure at 0x1090d74d0>"
       ]
      }
     ],
     "prompt_number": 96
    },
    {
     "cell_type": "code",
     "collapsed": false,
     "input": [],
     "language": "python",
     "metadata": {},
     "outputs": []
    }
   ],
   "metadata": {}
  }
 ]
}