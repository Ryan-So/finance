{
 "metadata": {
  "name": "",
  "signature": "sha256:950f780b2352efc2ca72d47f70a54857a48365c6c0da245db639231dea68249f"
 },
 "nbformat": 3,
 "nbformat_minor": 0,
 "worksheets": [
  {
   "cells": [
    {
     "cell_type": "code",
     "collapsed": false,
     "input": [
      "def fv_pretty(t, initial, monthly_contribution, interest_rate, html=False):\n",
      "    \"\"\"\n",
      "    Gives us ammoratized compound interest in pretty formats\n",
      "\n",
      "    :param t: Time in months\n",
      "    :param initial: Initial amount\n",
      "    :param monthly_contribution: monthly investment\n",
      "    :param interest_rate:\n",
      "    :return pd.Series or HTML table containing the month numbers and the current\n",
      "    Acummulated savings\n",
      "\n",
      "    \"\"\"\n",
      "\n",
      "    # Skip the month before contributions.\n",
      "    df = pd.DataFrame(fv_iterated(t=t, initial=initial, monthly_contribution=monthly_contribution,\n",
      "                                  interest_rate=interest_rate), columns=['Month', 'Value'])[1:]\n",
      "\n",
      "    df = df.set_index('Month')\n",
      "\n",
      "    if html:\n",
      "        return df.to_html.replace(\"\\n\", \"\")\n",
      "    else:\n",
      "        return df\n",
      "\n",
      "\n",
      "def fv_iterated(t, initial, monthly_contribution, interest_rate):\n",
      "    # http://stackoverflow.com/questions/21543017/compound-interest-with-deposits-in-python\n",
      "    \"\"\"\n",
      "    Gives ammortized savings. Note that we assume that returns are\n",
      "    compounded monthly and that the savings are made at the start\n",
      "    of each month\n",
      "\n",
      "    :param t: Time in months\n",
      "    :param initial: Initial amount\n",
      "    :param monthly_contribution: monthly investment\n",
      "    :param interest_rate:\n",
      "    :return: tuples containg the values with the interest rate\n",
      "\n",
      "\n",
      "    >>> values = fv_iterated(12, 20000, 2000, .12)\n",
      "    >>> round(values[-1][1])\n",
      "    45678.0\n",
      "    \"\"\"\n",
      "    monthly_interest = interest_rate/12\n",
      "\n",
      "    values = [tuple([0, initial])]\n",
      "\n",
      "    for month in range(t)[1:]:\n",
      "        values.append(tuple([month, (values[-1][1] + monthly_contribution)*(1+ monthly_interest)]))\n",
      "\n",
      "    return values\n"
     ],
     "language": "python",
     "metadata": {},
     "outputs": [],
     "prompt_number": 47
    },
    {
     "cell_type": "code",
     "collapsed": false,
     "input": [
      "    values = [tuple([0, initial])]\n"
     ],
     "language": "python",
     "metadata": {},
     "outputs": [
      {
       "ename": "NameError",
       "evalue": "name 'initial' is not defined",
       "output_type": "pyerr",
       "traceback": [
        "\u001b[0;31m---------------------------------------------------------------------------\u001b[0m\n\u001b[0;31mNameError\u001b[0m                                 Traceback (most recent call last)",
        "\u001b[0;32m<ipython-input-43-606d1e229c32>\u001b[0m in \u001b[0;36m<module>\u001b[0;34m()\u001b[0m\n\u001b[0;32m----> 1\u001b[0;31m \u001b[0mvalues\u001b[0m \u001b[0;34m=\u001b[0m \u001b[0;34m[\u001b[0m\u001b[0mtuple\u001b[0m\u001b[0;34m(\u001b[0m\u001b[0;34m[\u001b[0m\u001b[0;36m0\u001b[0m\u001b[0;34m,\u001b[0m \u001b[0minitial\u001b[0m\u001b[0;34m]\u001b[0m\u001b[0;34m)\u001b[0m\u001b[0;34m]\u001b[0m\u001b[0;34m\u001b[0m\u001b[0m\n\u001b[0m",
        "\u001b[0;31mNameError\u001b[0m: name 'initial' is not defined"
       ]
      }
     ],
     "prompt_number": 43
    },
    {
     "cell_type": "code",
     "collapsed": false,
     "input": [
      "values = fv_iterated(12, 20000, 2000, .12)"
     ],
     "language": "python",
     "metadata": {},
     "outputs": [],
     "prompt_number": 72
    },
    {
     "cell_type": "code",
     "collapsed": false,
     "input": [
      "import pandas as pd"
     ],
     "language": "python",
     "metadata": {},
     "outputs": [],
     "prompt_number": 51
    },
    {
     "cell_type": "code",
     "collapsed": false,
     "input": [
      "df = pd.DataFrame(values, columns=['Month', 'Value'])[1:]"
     ],
     "language": "python",
     "metadata": {},
     "outputs": [],
     "prompt_number": 59
    },
    {
     "cell_type": "code",
     "collapsed": false,
     "input": [
      "df = df.set_index('Month')"
     ],
     "language": "python",
     "metadata": {},
     "outputs": [],
     "prompt_number": 64
    },
    {
     "cell_type": "code",
     "collapsed": false,
     "input": [
      "values"
     ],
     "language": "python",
     "metadata": {},
     "outputs": [
      {
       "metadata": {},
       "output_type": "pyout",
       "prompt_number": 73,
       "text": [
        "[(0, 20000),\n",
        " (1, 22220.0),\n",
        " (2, 24462.2),\n",
        " (3, 26726.822),\n",
        " (4, 29014.090220000002),\n",
        " (5, 31324.231122200003),\n",
        " (6, 33657.473433422),\n",
        " (7, 36014.04816775622),\n",
        " (8, 38394.18864943378),\n",
        " (9, 40798.13053592812),\n",
        " (10, 43226.1118412874),\n",
        " (11, 45678.372959700275)]"
       ]
      }
     ],
     "prompt_number": 73
    },
    {
     "cell_type": "code",
     "collapsed": false,
     "input": [
      "df.to_html().replace(\"\\n\", \"\")"
     ],
     "language": "python",
     "metadata": {},
     "outputs": [
      {
       "metadata": {},
       "output_type": "pyout",
       "prompt_number": 65,
       "text": [
        "u'<table border=\"1\" class=\"dataframe\">  <thead>    <tr style=\"text-align: right;\">      <th></th>      <th>Value</th>    </tr>    <tr>      <th>Month</th>      <th></th>    </tr>  </thead>  <tbody>    <tr>      <th>1 </th>      <td> 22220.000000</td>    </tr>    <tr>      <th>2 </th>      <td> 24462.200000</td>    </tr>    <tr>      <th>3 </th>      <td> 26726.822000</td>    </tr>    <tr>      <th>4 </th>      <td> 29014.090220</td>    </tr>    <tr>      <th>5 </th>      <td> 31324.231122</td>    </tr>    <tr>      <th>6 </th>      <td> 33657.473433</td>    </tr>    <tr>      <th>7 </th>      <td> 36014.048168</td>    </tr>    <tr>      <th>8 </th>      <td> 38394.188649</td>    </tr>    <tr>      <th>9 </th>      <td> 40798.130536</td>    </tr>    <tr>      <th>10</th>      <td> 43226.111841</td>    </tr>    <tr>      <th>11</th>      <td> 45678.372960</td>    </tr>  </tbody></table>'"
       ]
      }
     ],
     "prompt_number": 65
    },
    {
     "cell_type": "markdown",
     "metadata": {},
     "source": [
      "<table border=\"1\" class=\"dataframe\">  <thead>    <tr style=\"text-align: right;\">      <th></th>      <th>Value</th>    </tr>    <tr>      <th>Month</th>      <th></th>    </tr>  </thead>  <tbody>    <tr>      <th>1 </th>      <td> 22220.000000</td>    </tr>    <tr>      <th>2 </th>      <td> 24462.200000</td>    </tr>    <tr>      <th>3 </th>      <td> 26726.822000</td>    </tr>    <tr>      <th>4 </th>      <td> 29014.090220</td>    </tr>    <tr>      <th>5 </th>      <td> 31324.231122</td>    </tr>    <tr>      <th>6 </th>      <td> 33657.473433</td>    </tr>    <tr>      <th>7 </th>      <td> 36014.048168</td>    </tr>    <tr>      <th>8 </th>      <td> 38394.188649</td>    </tr>    <tr>      <th>9 </th>      <td> 40798.130536</td>    </tr>    <tr>      <th>10</th>      <td> 43226.111841</td>    </tr>    <tr>      <th>11</th>      <td> 45678.372960</td>    </tr>  </tbody></table>"
     ]
    },
    {
     "cell_type": "code",
     "collapsed": false,
     "input": [
      "round(values[-1][1])"
     ],
     "language": "python",
     "metadata": {},
     "outputs": [
      {
       "metadata": {},
       "output_type": "pyout",
       "prompt_number": 74,
       "text": [
        "45678.0"
       ]
      }
     ],
     "prompt_number": 74
    },
    {
     "cell_type": "code",
     "collapsed": false,
     "input": [],
     "language": "python",
     "metadata": {},
     "outputs": []
    }
   ],
   "metadata": {}
  }
 ]
}