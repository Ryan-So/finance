{
 "cells": [
  {
   "cell_type": "code",
   "execution_count": 9,
   "metadata": {
    "ExecuteTime": {
     "end_time": "2017-06-18T17:59:48.178872Z",
     "start_time": "2017-06-18T17:59:48.175316Z"
    },
    "collapsed": true
   },
   "outputs": [],
   "source": [
    "import pyfolio as pf\n",
    "import pandas as pd\n",
    "import pandas_datareader"
   ]
  },
  {
   "cell_type": "code",
   "execution_count": 13,
   "metadata": {
    "ExecuteTime": {
     "end_time": "2017-06-18T18:06:20.800987Z",
     "start_time": "2017-06-18T18:06:20.794921Z"
    },
    "collapsed": true
   },
   "outputs": [],
   "source": [
    "import fix_yahoo_finance"
   ]
  },
  {
   "cell_type": "code",
   "execution_count": 11,
   "metadata": {
    "ExecuteTime": {
     "end_time": "2017-06-18T18:06:13.695762Z",
     "start_time": "2017-06-18T18:06:13.691377Z"
    },
    "collapsed": true
   },
   "outputs": [],
   "source": [
    "candidate_stocks = ['VZ', 'NHI', 'MAIN', \n",
    "                   'BEP', # Note this is up too much now\n",
    "                   'SEP',\n",
    "                   'OHI', # Flat the entire year\n",
    "                   ]"
   ]
  },
  {
   "cell_type": "code",
   "execution_count": 12,
   "metadata": {
    "ExecuteTime": {
     "end_time": "2017-06-18T18:06:17.874299Z",
     "start_time": "2017-06-18T18:06:13.866871Z"
    }
   },
   "outputs": [],
   "source": [
    "test = pandas_datareader.get_data_google(candidate_stocks)"
   ]
  },
  {
   "cell_type": "code",
   "execution_count": 22,
   "metadata": {
    "ExecuteTime": {
     "end_time": "2017-06-18T18:18:57.184732Z",
     "start_time": "2017-06-18T18:18:57.180678Z"
    }
   },
   "outputs": [
    {
     "data": {
      "text/plain": [
       "(5, 1877, 6)"
      ]
     },
     "execution_count": 22,
     "metadata": {},
     "output_type": "execute_result"
    }
   ],
   "source": [
    "test.values.shape"
   ]
  },
  {
   "cell_type": "code",
   "execution_count": 25,
   "metadata": {
    "ExecuteTime": {
     "end_time": "2017-06-18T18:19:37.279339Z",
     "start_time": "2017-06-18T18:19:37.274886Z"
    }
   },
   "outputs": [
    {
     "data": {
      "text/plain": [
       "<class 'pandas.core.panel.Panel'>\n",
       "Dimensions: 5 (items) x 1877 (major_axis) x 6 (minor_axis)\n",
       "Items axis: Open to Volume\n",
       "Major_axis axis: 2010-01-04 00:00:00 to 2017-06-16 00:00:00\n",
       "Minor_axis axis: BEP to VZ"
      ]
     },
     "execution_count": 25,
     "metadata": {},
     "output_type": "execute_result"
    }
   ],
   "source": [
    "test"
   ]
  },
  {
   "cell_type": "code",
   "execution_count": 26,
   "metadata": {
    "ExecuteTime": {
     "end_time": "2017-06-18T18:19:48.607325Z",
     "start_time": "2017-06-18T18:19:48.602120Z"
    }
   },
   "outputs": [
    {
     "data": {
      "text/plain": [
       "Index(['Open', 'High', 'Low', 'Close', 'Volume'], dtype='object')"
      ]
     },
     "execution_count": 26,
     "metadata": {},
     "output_type": "execute_result"
    }
   ],
   "source": [
    "test.items"
   ]
  },
  {
   "cell_type": "code",
   "execution_count": 28,
   "metadata": {
    "ExecuteTime": {
     "end_time": "2017-06-18T18:20:04.862756Z",
     "start_time": "2017-06-18T18:20:04.860094Z"
    }
   },
   "outputs": [],
   "source": [
    "df = test.loc['Close', :, :]"
   ]
  },
  {
   "cell_type": "code",
   "execution_count": 30,
   "metadata": {
    "ExecuteTime": {
     "end_time": "2017-06-18T18:20:45.185254Z",
     "start_time": "2017-06-18T18:20:44.413171Z"
    },
    "collapsed": true
   },
   "outputs": [],
   "source": [
    "spy = pandas_datareader.get_data_google('SPY')"
   ]
  },
  {
   "cell_type": "code",
   "execution_count": 33,
   "metadata": {
    "ExecuteTime": {
     "end_time": "2017-06-18T18:21:03.594976Z",
     "start_time": "2017-06-18T18:21:03.591739Z"
    }
   },
   "outputs": [],
   "source": [
    "spy = spy.loc[:,\"Close\"]"
   ]
  },
  {
   "cell_type": "code",
   "execution_count": 41,
   "metadata": {
    "ExecuteTime": {
     "end_time": "2017-06-18T18:22:01.045538Z",
     "start_time": "2017-06-18T18:22:01.042457Z"
    },
    "collapsed": true
   },
   "outputs": [],
   "source": [
    "spy.index.name = 'spy'"
   ]
  },
  {
   "cell_type": "markdown",
   "metadata": {},
   "source": [
    "Now we add the two dataframes together:"
   ]
  },
  {
   "cell_type": "code",
   "execution_count": 44,
   "metadata": {
    "ExecuteTime": {
     "end_time": "2017-06-18T18:22:22.469056Z",
     "start_time": "2017-06-18T18:22:22.464077Z"
    },
    "scrolled": true
   },
   "outputs": [],
   "source": [
    "df = pd.concat([df, spy], axis=1)"
   ]
  },
  {
   "cell_type": "markdown",
   "metadata": {},
   "source": [
    "## Analyzing the Data"
   ]
  },
  {
   "cell_type": "markdown",
   "metadata": {},
   "source": [
    "Pyfolio expects returns to be fed in the form of a series. This is possible but already too much work for what I'm looking to do. "
   ]
  },
  {
   "cell_type": "markdown",
   "metadata": {},
   "source": [
    "# Easier Strategy\n",
    "1. Look at historical data\n",
    "2. Look at beta\n",
    "\n",
    "## Betas\n",
    "Stock | 1 Year Returns | Dividend | Beta | Notes\n",
    "-- | -- | -- | -- | -- \n",
    "VZ | -13% | 5% | .56\n",
    "NHI | 9% | 5% | .60 \n",
    "MAIN | 20% | 5.69% | 1.08 | Probably don't want this because of the high beta\n",
    "BEP |19% | 5.5 | .28 \n",
    "SEP | -10% | 6.7% | .70 \n",
    "OHI | 0 | 7.6% | .55 \n"
   ]
  },
  {
   "cell_type": "code",
   "execution_count": null,
   "metadata": {
    "collapsed": true
   },
   "outputs": [],
   "source": []
  }
 ],
 "metadata": {
  "kernelspec": {
   "display_name": "Python 3",
   "language": "python",
   "name": "python3"
  },
  "language_info": {
   "codemirror_mode": {
    "name": "ipython",
    "version": 3
   },
   "file_extension": ".py",
   "mimetype": "text/x-python",
   "name": "python",
   "nbconvert_exporter": "python",
   "pygments_lexer": "ipython3",
   "version": "3.6.1"
  }
 },
 "nbformat": 4,
 "nbformat_minor": 2
}
