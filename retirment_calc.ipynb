{
 "cells": [
  {
   "cell_type": "markdown",
   "metadata": {},
   "source": [
    "My Dad wants to retire soon. Like many baby boomers, his retirement will consist of several \n",
    "\n",
    "This is a good idea for an app"
   ]
  },
  {
   "cell_type": "code",
   "execution_count": 1,
   "metadata": {
    "collapsed": true
   },
   "outputs": [],
   "source": [
    "retire_age = 62\n",
    "# TODO: Make social security vary based on the age\n",
    "\n",
    "# Define expected monthly fash streams\n",
    "e_social_security = 1800 # This might go down by $500 in the future\n",
    "e_oil = 2000"
   ]
  },
  {
   "cell_type": "markdown",
   "metadata": {},
   "source": [
    "Note that there is a guranteed 7% return on social security so it'll probably be worth waiting to collect on that one. http://www.socialsecuritychoices.com/info/social_security_as_investment.php. Waiting until 64 actually yields a 6% guranteed ROI assuming average life expectancy. Dad's median life expectancy is 82 years"
   ]
  },
  {
   "cell_type": "code",
   "execution_count": 2,
   "metadata": {
    "collapsed": true
   },
   "outputs": [],
   "source": [
    "# Define expected capital amounts\n",
    "dc_benefit = 445e3\n",
    "pension = 420e3\n",
    "total = pension + dc_benefit"
   ]
  },
  {
   "cell_type": "code",
   "execution_count": 3,
   "metadata": {
    "collapsed": false
   },
   "outputs": [
    {
     "data": {
      "text/plain": [
       "865000.0"
      ]
     },
     "execution_count": 3,
     "metadata": {},
     "output_type": "execute_result"
    }
   ],
   "source": [
    "total"
   ]
  },
  {
   "cell_type": "markdown",
   "metadata": {},
   "source": [
    "My dad will want to split it between lending club and the stock market."
   ]
  },
  {
   "cell_type": "markdown",
   "metadata": {},
   "source": [
    "# The Expected Returns"
   ]
  },
  {
   "cell_type": "code",
   "execution_count": 4,
   "metadata": {
    "collapsed": true
   },
   "outputs": [],
   "source": [
    "lc_e_return = .10\n",
    "stock_e_return = .07\n",
    "\n",
    "lc_share = .7\n",
    "stock_share = 1 - lc_share"
   ]
  },
  {
   "cell_type": "code",
   "execution_count": 5,
   "metadata": {
    "collapsed": false
   },
   "outputs": [
    {
     "name": "stdout",
     "output_type": "stream",
     "text": [
      "605500.0 259500.00000000003\n"
     ]
    }
   ],
   "source": [
    "lc_amount = lc_share * total\n",
    "stock_amount = stock_share * total\n",
    "print(lc_amount, stock_amount)"
   ]
  },
  {
   "cell_type": "code",
   "execution_count": 6,
   "metadata": {
    "collapsed": true
   },
   "outputs": [],
   "source": [
    "expected_return = lc_e_return * lc_amount + stock_amount * stock_e_return"
   ]
  },
  {
   "cell_type": "code",
   "execution_count": 7,
   "metadata": {
    "collapsed": true
   },
   "outputs": [],
   "source": [
    "total_cash_flow = expected_return / 12 + e_oil + e_social_security"
   ]
  },
  {
   "cell_type": "code",
   "execution_count": 8,
   "metadata": {
    "collapsed": false
   },
   "outputs": [
    {
     "data": {
      "text/plain": [
       "10359.583333333332"
      ]
     },
     "execution_count": 8,
     "metadata": {},
     "output_type": "execute_result"
    }
   ],
   "source": [
    "total_cash_flow"
   ]
  },
  {
   "cell_type": "code",
   "execution_count": 9,
   "metadata": {
    "collapsed": true
   },
   "outputs": [],
   "source": [
    "tax_rate = 22 / 120"
   ]
  },
  {
   "cell_type": "code",
   "execution_count": 10,
   "metadata": {
    "collapsed": false
   },
   "outputs": [
    {
     "data": {
      "text/plain": [
       "8460.326388888889"
      ]
     },
     "execution_count": 10,
     "metadata": {},
     "output_type": "execute_result"
    }
   ],
   "source": [
    "total_cash_flow - tax_rate * total_cash_flow"
   ]
  },
  {
   "cell_type": "markdown",
   "metadata": {},
   "source": [
    "# Monte Carlo"
   ]
  },
  {
   "cell_type": "code",
   "execution_count": 105,
   "metadata": {
    "collapsed": false
   },
   "outputs": [
    {
     "name": "stdout",
     "output_type": "stream",
     "text": [
      "Populating the interactive namespace from numpy and matplotlib\n"
     ]
    }
   ],
   "source": [
    "%pylab inline"
   ]
  },
  {
   "cell_type": "code",
   "execution_count": 58,
   "metadata": {
    "collapsed": false,
    "scrolled": false
   },
   "outputs": [],
   "source": [
    "def stock_returns():\n",
    "    return np.random.lognormal(.064, .179, 1)"
   ]
  },
  {
   "cell_type": "code",
   "execution_count": 144,
   "metadata": {
    "collapsed": true
   },
   "outputs": [],
   "source": [
    "def royalty_returns():\n",
    "    # Royalties can;t go below 0\n",
    "    return max(np.random.normal(2000,1500), 0)"
   ]
  },
  {
   "cell_type": "code",
   "execution_count": 125,
   "metadata": {
    "collapsed": true
   },
   "outputs": [],
   "source": [
    "def lc_returns():\n",
    "    if np.random.uniform() > 0.99:\n",
    "        # Lending club goes bankrupt with probability .01\n",
    "        if np.random.uniform() > 0.5:\n",
    "            # Get half back\n",
    "            lc_returns = 0.5\n",
    "        else:\n",
    "            # Judge Eliminates everything\n",
    "            lc_returns = 0\n",
    "    else:\n",
    "        lc_returns = np.random.normal(1.11,.02)\n",
    "    return lc_returns"
   ]
  },
  {
   "cell_type": "markdown",
   "metadata": {},
   "source": [
    "Note that this is for any given year"
   ]
  },
  {
   "cell_type": "code",
   "execution_count": 127,
   "metadata": {
    "collapsed": false,
    "scrolled": false
   },
   "outputs": [],
   "source": [
    "simulations = []\n",
    "for simulation in range(100000):\n",
    "    lc_cash = (lc_returns() - 1) * lc_amount\n",
    "    stock_cash = (stock_returns() - 1) * stock_amount\n",
    "    royalty_cash = royalty_returns() * 12\n",
    "    \n",
    "    simulations.append(royalty_cash + lc_cash + stock_cash + e_social_security)"
   ]
  },
  {
   "cell_type": "code",
   "execution_count": 191,
   "metadata": {
    "collapsed": true
   },
   "outputs": [],
   "source": [
    "def sim_year(total):\n",
    "    simulations = []\n",
    "    for simulation in range(10000):\n",
    "        lc_cash = (lc_returns()) * lc_amount\n",
    "        stock_cash = (stock_returns()) * stock_amount\n",
    "        royalty_cash = royalty_returns() * 12\n",
    "\n",
    "#         simulations.append(royalty_cash + lc_cash + stock_cash + e_social_security - total)\n",
    "        simulations.append(royalty_cash + lc_cash + stock_cash + e_social_security)\n",
    "    return simulations"
   ]
  },
  {
   "cell_type": "markdown",
   "metadata": {},
   "source": [
    "## Monte Carlo Simulations of Many years"
   ]
  },
  {
   "cell_type": "markdown",
   "metadata": {},
   "source": [
    "### Ways to Approach this"
   ]
  },
  {
   "cell_type": "markdown",
   "metadata": {},
   "source": [
    "1. List of lists. \n",
    "    - Retirment simulations Length N by Y\n",
    "2. Do worst 10% reliabily"
   ]
  },
  {
   "cell_type": "code",
   "execution_count": 176,
   "metadata": {
    "collapsed": false
   },
   "outputs": [
    {
     "data": {
      "text/plain": [
       "10000000000.0"
      ]
     },
     "execution_count": 176,
     "metadata": {},
     "output_type": "execute_result"
    }
   ],
   "source": [
    "1e5 * 1e5"
   ]
  },
  {
   "cell_type": "code",
   "execution_count": 171,
   "metadata": {
    "collapsed": false
   },
   "outputs": [],
   "source": [
    "new_total = sim[0] if sim[0] < total else total"
   ]
  },
  {
   "cell_type": "markdown",
   "metadata": {},
   "source": [
    "The problem is, once we are using this Monte Carlo tecnique, and then just taking the second, percentile, we are basically "
   ]
  },
  {
   "cell_type": "code",
   "execution_count": 247,
   "metadata": {
    "collapsed": false
   },
   "outputs": [],
   "source": [
    "# Numbers aren;t updating after the first year\n",
    "\n",
    "def sim_retirement(total, years=30):\n",
    "    retirment_simulations = []\n",
    "    for i in range(10000)[:1]:\n",
    "        yearly_result = [total]\n",
    "        for year in range(years):\n",
    "            simulations = sim_year(total)\n",
    "            worst_10 = np.percentile(simulations, 60)\n",
    "            min_withdrwawal = 4000 * 12\n",
    "            total = worst_10 - min_withdrwawal\n",
    "            yearly_result.append(total)\n",
    "            print(total, worst_10)\n",
    "        print(yearly_result)\n",
    "        "
   ]
  },
  {
   "cell_type": "code",
   "execution_count": 248,
   "metadata": {
    "collapsed": false
   },
   "outputs": [
    {
     "name": "stdout",
     "output_type": "stream",
     "text": [
      "941416.533298 989416.533298\n",
      "940200.036404 988200.036404\n",
      "941308.730208 989308.730208\n",
      "940301.741112 988301.741112\n",
      "941657.317889 989657.317889\n",
      "940767.214263 988767.214263\n",
      "940836.657109 988836.657109\n",
      "940426.01246 988426.01246\n",
      "940967.554872 988967.554872\n",
      "941701.170968 989701.170968\n",
      "940639.423024 988639.423024\n",
      "940197.735686 988197.735686\n",
      "940918.987213 988918.987213\n",
      "941504.867191 989504.867191\n",
      "941726.434888 989726.434888\n",
      "941624.731364 989624.731364\n",
      "941835.083709 989835.083709\n",
      "941118.012655 989118.012655\n",
      "940911.589422 988911.589422\n",
      "942068.875339 990068.875339\n",
      "941583.368516 989583.368516\n",
      "942138.787882 990138.787882\n",
      "941949.9883 989949.9883\n",
      "942356.841981 990356.841981\n",
      "941577.551085 989577.551085\n",
      "941281.123602 989281.123602\n",
      "941540.728512 989540.728512\n",
      "941292.168412 989292.168412\n",
      "939669.980759 987669.980759\n",
      "940562.031354 988562.031354\n",
      "[865000.0, 941416.53329750791, 940200.03640428837, 941308.73020757316, 940301.74111187854, 941657.31788870681, 940767.21426270495, 940836.6571093899, 940426.01246042782, 940967.55487232655, 941701.17096824665, 940639.42302449024, 940197.73568579857, 940918.98721290939, 941504.8671906977, 941726.43488782435, 941624.73136420897, 941835.08370881737, 941118.01265500276, 940911.58942246565, 942068.87533943215, 941583.36851621815, 942138.78788206819, 941949.98830022663, 942356.84198100504, 941577.55108532635, 941281.12360230903, 941540.72851162613, 941292.16841173207, 939669.98075905116, 940562.03135352861]\n"
     ]
    }
   ],
   "source": [
    "sim_retirement(total)"
   ]
  },
  {
   "cell_type": "code",
   "execution_count": 229,
   "metadata": {
    "collapsed": false
   },
   "outputs": [
    {
     "ename": "TypeError",
     "evalue": "unsupported operand type(s) for /: 'NoneType' and 'int'",
     "output_type": "error",
     "traceback": [
      "\u001b[0;31m---------------------------------------------------------------------------\u001b[0m",
      "\u001b[0;31mTypeError\u001b[0m                                 Traceback (most recent call last)",
      "\u001b[0;32m<ipython-input-229-096029c62fcd>\u001b[0m in \u001b[0;36m<module>\u001b[0;34m()\u001b[0m\n\u001b[0;32m----> 1\u001b[0;31m \u001b[0marr\u001b[0m \u001b[0;34m=\u001b[0m \u001b[0mnp\u001b[0m\u001b[0;34m.\u001b[0m\u001b[0marray\u001b[0m\u001b[0;34m(\u001b[0m\u001b[0msimulations\u001b[0m\u001b[0;34m)\u001b[0m \u001b[0;34m/\u001b[0m \u001b[0;36m12\u001b[0m \u001b[0;31m# Divide by 12 to get monthly amounts\u001b[0m\u001b[0;34m\u001b[0m\u001b[0m\n\u001b[0m",
      "\u001b[0;31mTypeError\u001b[0m: unsupported operand type(s) for /: 'NoneType' and 'int'"
     ]
    },
    {
     "name": "stdout",
     "output_type": "stream",
     "text": [
      "> \u001b[0;32m<ipython-input-229-096029c62fcd>\u001b[0m(1)\u001b[0;36m<module>\u001b[0;34m()\u001b[0m\n",
      "\u001b[0;32m----> 1 \u001b[0;31m\u001b[0marr\u001b[0m \u001b[0;34m=\u001b[0m \u001b[0mnp\u001b[0m\u001b[0;34m.\u001b[0m\u001b[0marray\u001b[0m\u001b[0;34m(\u001b[0m\u001b[0msimulations\u001b[0m\u001b[0;34m)\u001b[0m \u001b[0;34m/\u001b[0m \u001b[0;36m12\u001b[0m \u001b[0;31m# Divide by 12 to get monthly amounts\u001b[0m\u001b[0;34m\u001b[0m\u001b[0m\n",
      "\u001b[0m\n",
      "ipdb> q\n"
     ]
    }
   ],
   "source": [
    "arr = np.array(simulations) / 12 # Divide by 12 to get monthly amounts"
   ]
  },
  {
   "cell_type": "code",
   "execution_count": 206,
   "metadata": {
    "collapsed": true
   },
   "outputs": [],
   "source": [
    "arr = np.array(simulations)"
   ]
  },
  {
   "cell_type": "code",
   "execution_count": 214,
   "metadata": {
    "collapsed": false
   },
   "outputs": [
    {
     "data": {
      "text/plain": [
       "(866451.73016278504, 974613.50463586184, 1074963.0538279477)"
      ]
     },
     "execution_count": 214,
     "metadata": {},
     "output_type": "execute_result"
    }
   ],
   "source": [
    "# Monthly Amounts \n",
    "np.percentile(arr, 2), np.percentile(arr, 50), np.percentile(arr, 95)"
   ]
  },
  {
   "cell_type": "code",
   "execution_count": 145,
   "metadata": {
    "collapsed": false
   },
   "outputs": [],
   "source": [
    "sim = [royalty_returns() for _ in range(1000)]"
   ]
  },
  {
   "cell_type": "code",
   "execution_count": 146,
   "metadata": {
    "collapsed": true
   },
   "outputs": [],
   "source": [
    "sim = np.array(sim)"
   ]
  },
  {
   "cell_type": "code",
   "execution_count": 147,
   "metadata": {
    "collapsed": false
   },
   "outputs": [
    {
     "data": {
      "text/plain": [
       "1368.6875467521743"
      ]
     },
     "execution_count": 147,
     "metadata": {},
     "output_type": "execute_result"
    }
   ],
   "source": [
    "sim.std()"
   ]
  },
  {
   "cell_type": "code",
   "execution_count": 151,
   "metadata": {
    "collapsed": false
   },
   "outputs": [
    {
     "data": {
      "text/plain": [
       "0.0"
      ]
     },
     "execution_count": 151,
     "metadata": {},
     "output_type": "execute_result"
    }
   ],
   "source": [
    "np.percentile(sim, 8)"
   ]
  },
  {
   "cell_type": "markdown",
   "metadata": {},
   "source": [
    "# Monte Carlo Over Time"
   ]
  },
  {
   "cell_type": "markdown",
   "metadata": {},
   "source": [
    "The next step is going to be to simulate the results over time. This is difficult because of multicollinearity. \n",
    "\n",
    "In any case, this amount of money when dedicated purely to cash flow is 850k"
   ]
  },
  {
   "cell_type": "markdown",
   "metadata": {},
   "source": [
    "# Ways to Approach the Monte Carlo Simulation"
   ]
  },
  {
   "cell_type": "markdown",
   "metadata": {},
   "source": [
    "- Fit lending club returns according to my own distribution $ N \\sim (.11, .1 $)\n",
    "- Fit oil returns according to $max ( N \\sim (2000, 1000), 0 )$\n",
    "- Correlate them with the stock market (oil returns .2, lending club .1)"
   ]
  },
  {
   "cell_type": "markdown",
   "metadata": {},
   "source": [
    "- https://www.portfoliovisualizer.com/monte-carlo-simulation#analysisResults\n",
    "-https://www.quora.com/What-is-the-best-family-of-distributions-to-model-stock-market-returns\n",
    "- http://stackoverflow.com/questions/6620471/fitting-empirical-distribution-to-theoretical-ones-with-scipy-python For fitting the S&P Returns\n",
    "- http://www.prospercuity.com/modified-distributions.htm Log normal with mean 6.4% and standard deviation 17.9%. Also have the data there"
   ]
  },
  {
   "cell_type": "code",
   "execution_count": null,
   "metadata": {
    "collapsed": true
   },
   "outputs": [],
   "source": []
  }
 ],
 "metadata": {
  "kernelspec": {
   "display_name": "Python 3",
   "language": "python",
   "name": "python3"
  },
  "language_info": {
   "codemirror_mode": {
    "name": "ipython",
    "version": 3
   },
   "file_extension": ".py",
   "mimetype": "text/x-python",
   "name": "python",
   "nbconvert_exporter": "python",
   "pygments_lexer": "ipython3",
   "version": "3.4.3"
  }
 },
 "nbformat": 4,
 "nbformat_minor": 0
}
